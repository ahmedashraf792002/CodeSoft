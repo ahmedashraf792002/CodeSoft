{
 "cells": [
  {
   "cell_type": "code",
   "execution_count": 1,
   "id": "3c87b978-85d1-406d-bd24-8cf43d9277d3",
   "metadata": {},
   "outputs": [],
   "source": [
    "## import Libraries\n",
    "import sqlite3\n",
    "import re"
   ]
  },
  {
   "cell_type": "code",
   "execution_count": 2,
   "id": "67159fe7-4b82-4df0-a8e4-f958c0c2a542",
   "metadata": {},
   "outputs": [],
   "source": [
    "## Create Database for Chatbot\n",
    "conn = sqlite3.connect('chatbot.db')\n",
    "c = conn.cursor()"
   ]
  },
  {
   "cell_type": "code",
   "execution_count": 3,
   "id": "8bd2887a-89e5-486f-8a8a-73f42927a6d3",
   "metadata": {},
   "outputs": [],
   "source": [
    "_ = c.execute('''\n",
    "CREATE TABLE IF NOT EXISTS responses (\n",
    "    id INTEGER PRIMARY KEY AUTOINCREMENT,\n",
    "    question TEXT NOT NULL,\n",
    "    response TEXT NOT NULL\n",
    ")\n",
    "''')"
   ]
  },
  {
   "cell_type": "code",
   "execution_count": 4,
   "id": "fd7192c5-a646-4a75-a991-457cad3769a3",
   "metadata": {},
   "outputs": [],
   "source": [
    "responses = [\n",
    "    ('hello|hi|hey', 'Hello! How can I assist you today?'),\n",
    "    ('how are you', 'I\\'m just a bot, but I\\'m doing great! How about you?'),\n",
    "    ('what is your name', 'I am a simple rule-based chatbot created to assist you.'),\n",
    "    ('thank you|thanks', 'You\\'re welcome! If you have any other questions, feel free to ask.'),\n",
    "    ('bye|goodbye', 'Goodbye! Have a great day!'),\n",
    "    ('what can you do', 'I can assist you with simple queries and provide basic information.'),\n",
    "    ('what is the weather', 'I can help with general weather information.'),\n",
    "    ('what time is it', 'I can provide you with the current time if you enable location access.'),\n",
    "    ('how can I contact support', 'You can contact support via email at support@example.com.'),\n",
    "    ('who is the team leader', 'The team leader is the person responsible for guiding and managing the team.'),\n",
    "    ('what is your favorite color', 'I don\\'t have preferences, but I can help you with information about colors.'),\n",
    "    ('how can I reset my password', 'You can reset your password by following the instructions in the \"Forgot Password\" section of the login page.'),\n",
    "    ('where is the nearest store', 'I can help you find the nearest store if you enable location services.'),\n",
    "    ('what are your operating hours', 'Our operating hours are from 9 AM to 5 PM, Monday to Friday.'),\n",
    "    ('how can I subscribe to the newsletter', 'You can subscribe to our newsletter by entering your email on the subscription page.'),\n",
    "    ('how do I update my profile', 'You can update your profile by logging into your account and going to the profile settings section.'),\n",
    "    ('what languages do you support', 'I support both English and Arabic.'),\n",
    "    ('how do I provide feedback', 'You can provide feedback by filling out the feedback form on our website.'),\n",
    "    ('مرحبا|اهلا', 'مرحبا! كيف يمكنني مساعدتك اليوم؟'),\n",
    "    ('كيف حالك', 'أنا مجرد بوت، لكني بخير! ماذا عنك؟'),\n",
    "    ('ما اسمك', 'أنا شات بوت بسيط يعتمد على القواعد تم إنشاؤه لمساعدتك'),\n",
    "    ('شكرا|شكراً', 'عفواً! إذا كان لديك أي أسئلة أخرى، لا تتردد في السؤال'),\n",
    "    ('مع السلامة|وداعا', 'وداعاً! أتمنى لك يوماً سعيداً!'),\n",
    "    ('ما الذي يمكنك فعله', 'يمكنني مساعدتك في الاستفسارات البسيطة وتقديم معلومات أساسية'),\n",
    "    ('ما هو الليدر', 'قائد الفريق هو الشخص المسؤول عن توجيه وإدارة الفريق'),\n",
    "    ('ما هو عنوان البريد الإلكتروني للدعم', 'يمكنك الاتصال بالدعم عبر البريد الإلكتروني support@example.com'),\n",
    "    ('كم الساعة', 'يمكنني تزويدك بالوقت الحالي إذا قمت بتمكين الوصول إلى الموقع'),\n",
    "    ('من هو قائد الفريق', 'قائد الفريق هو الشخص المسؤول عن توجيه وإدارة الفريق'),\n",
    "    ('ما هو لونك المفضل', 'لا أملك تفضيلات، لكن يمكنني مساعدتك بمعلومات عن الألوان'),\n",
    "    ('كيف يمكنني إعادة تعيين كلمة المرور', 'يمكنك إعادة تعيين كلمة المرور باتباع التعليمات في قسم \"نسيت كلمة المرور\" على صفحة تسجيل الدخول.'),\n",
    "    ('أين يمكنني العثور على أقرب متجر', 'يمكنني مساعدتك في العثور على أقرب متجر إذا قمت بتمكين خدمات الموقع.'),\n",
    "    ('ما هي ساعات العمل', 'ساعات العمل لدينا من 9 صباحاً إلى 5 مساءً، من الإثنين إلى الجمعة.'),\n",
    "    ('كيف يمكنني الاشتراك في النشرة الإخبارية', 'يمكنك الاشتراك في نشرتنا الإخبارية عن طريق إدخال بريدك الإلكتروني في صفحة الاشتراك.'),\n",
    "    ('كيف أتمكن من تحديث ملفي الشخصي', 'يمكنك تحديث ملفك الشخصي عن طريق تسجيل الدخول إلى حسابك والذهاب إلى قسم إعدادات الملف الشخصي.'),\n",
    "    ('ما هي اللغات التي تدعمها', 'أدعم كل من اللغة الإنجليزية والعربية.'),\n",
    "    ('كيف يمكنني تقديم ملاحظات', 'يمكنك تقديم ملاحظاتك عن طريق ملء نموذج الملاحظات على موقعنا الإلكتروني.')\n",
    "]"
   ]
  },
  {
   "cell_type": "code",
   "execution_count": 5,
   "id": "a2b28f55-cfcc-461a-87e7-83fdeb6485c4",
   "metadata": {},
   "outputs": [],
   "source": [
    "c.executemany('INSERT INTO responses (question, response) VALUES (?, ?)', responses)\n",
    "conn.commit()\n",
    "conn.close()"
   ]
  },
  {
   "cell_type": "code",
   "execution_count": 6,
   "id": "bba84be6-bf1f-46e3-b220-4f7515d832b0",
   "metadata": {},
   "outputs": [],
   "source": [
    "#### use Database for Chatbot\n",
    "def get_response_from_db(user_input):\n",
    "    conn = sqlite3.connect('chatbot.db')\n",
    "    c = conn.cursor()\n",
    "    c.execute('SELECT question, response FROM responses')\n",
    "    rows = c.fetchall()\n",
    "    for row in rows:\n",
    "        question, response = row\n",
    "        if re.search(question, user_input):\n",
    "            conn.close()\n",
    "            return response\n",
    "    conn.close()\n",
    "    return \"I'm sorry, I didn't understand that. Can you please rephrase?\""
   ]
  },
  {
   "cell_type": "code",
   "execution_count": 7,
   "id": "b9bd2d5c-d31a-4d68-aaac-d61db2d8a4f4",
   "metadata": {},
   "outputs": [
    {
     "name": "stdin",
     "output_type": "stream",
     "text": [
      "You:  who is the team leader\n"
     ]
    },
    {
     "name": "stdout",
     "output_type": "stream",
     "text": [
      "Chatbot: The team leader is the person responsible for guiding and managing the team.\n"
     ]
    },
    {
     "name": "stdin",
     "output_type": "stream",
     "text": [
      "You:  كيف حالك \n"
     ]
    },
    {
     "name": "stdout",
     "output_type": "stream",
     "text": [
      "Chatbot: أنا مجرد بوت، لكني بخير! ماذا عنك؟\n"
     ]
    },
    {
     "name": "stdin",
     "output_type": "stream",
     "text": [
      "You:  ما هو الليدر\n"
     ]
    },
    {
     "name": "stdout",
     "output_type": "stream",
     "text": [
      "Chatbot: قائد الفريق هو الشخص المسؤول عن توجيه وإدارة الفريق\n"
     ]
    },
    {
     "name": "stdin",
     "output_type": "stream",
     "text": [
      "You:  what languages do you support\n"
     ]
    },
    {
     "name": "stdout",
     "output_type": "stream",
     "text": [
      "Chatbot: I support both English and Arabic.\n"
     ]
    },
    {
     "name": "stdin",
     "output_type": "stream",
     "text": [
      "You:  what is your favorite color\n"
     ]
    },
    {
     "name": "stdout",
     "output_type": "stream",
     "text": [
      "Chatbot: I don't have preferences, but I can help you with information about colors.\n"
     ]
    },
    {
     "name": "stdin",
     "output_type": "stream",
     "text": [
      "You:  how old\n"
     ]
    },
    {
     "name": "stdout",
     "output_type": "stream",
     "text": [
      "Chatbot: I'm sorry, I didn't understand that. Can you please rephrase?\n"
     ]
    },
    {
     "name": "stdin",
     "output_type": "stream",
     "text": [
      "You:  bye\n"
     ]
    },
    {
     "name": "stdout",
     "output_type": "stream",
     "text": [
      "Chatbot: Goodbye! Have a great day! / وداعاً! أتمنى لك يوماً سعيداً!\n"
     ]
    }
   ],
   "source": [
    "while True:\n",
    "    user_input = input(\"You: \").lower()\n",
    "    if user_input in [\"bye\", \"goodbye\", \"مع السلامة\", \"وداعا\"]:\n",
    "        print(\"Chatbot: Goodbye! Have a great day! / وداعاً! أتمنى لك يوماً سعيداً!\")\n",
    "        break\n",
    "    response = get_response_from_db(user_input)\n",
    "    print(\"Chatbot:\", response)"
   ]
  }
 ],
 "metadata": {
  "kernelspec": {
   "display_name": "Python 3 (ipykernel)",
   "language": "python",
   "name": "python3"
  },
  "language_info": {
   "codemirror_mode": {
    "name": "ipython",
    "version": 3
   },
   "file_extension": ".py",
   "mimetype": "text/x-python",
   "name": "python",
   "nbconvert_exporter": "python",
   "pygments_lexer": "ipython3",
   "version": "3.11.7"
  }
 },
 "nbformat": 4,
 "nbformat_minor": 5
}
